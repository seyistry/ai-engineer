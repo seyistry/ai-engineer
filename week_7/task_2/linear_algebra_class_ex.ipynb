{
 "cells": [
  {
   "cell_type": "markdown",
   "id": "b5db1443",
   "metadata": {},
   "source": [
    "# Class Task 2\n",
    "A = [[2, -1, 3], [0, 4, 1]]\n",
    "B = [[1, 2], [-2, 0], [5, -3]]\n",
    "Given the matrices:\n",
    "1. (a) Number of rows and columns in each matrix.\n",
    "2. (b) Determine whether the matrices can be multiplied. if so specify whether its (AB),(BA), or both\n",
    "3. (c) If defined, compute the resulting matrices using NumPy and explain the results.\n",
    "4. (Bonus) What will be the dimensions of the product matrix if the multiplication is valid"
   ]
  },
  {
   "cell_type": "code",
   "execution_count": 3,
   "id": "cd7bcf25",
   "metadata": {},
   "outputs": [
    {
     "name": "stdout",
     "output_type": "stream",
     "text": [
      "A =\n",
      "[[ 2 -1  3]\n",
      " [ 0  4  1]]\n",
      "B =\n",
      "[[ 1  2]\n",
      " [-2  0]\n",
      " [ 5 -3]]\n"
     ]
    }
   ],
   "source": [
    "import numpy as np\n",
    "\n",
    "# Construct matrices A and B as given in the task\n",
    "A = np.array([[2, -1, 3], [0, 4, 1]])\n",
    "B = np.array([[1, 2], [-2, 0], [5, -3]])\n",
    "\n",
    "# Print matrices to verify\n",
    "print('A =')\n",
    "print(A)\n",
    "print('B =')\n",
    "print(B)"
   ]
  },
  {
   "cell_type": "code",
   "execution_count": 10,
   "id": "90f97874",
   "metadata": {},
   "outputs": [
    {
     "name": "stdout",
     "output_type": "stream",
     "text": [
      "(a) Shapes:\n",
      "A shape (rows, cols): (2, 3)\n",
      "B shape (rows, cols): (3, 2)\n",
      "\n",
      "(b) Multiplication compatibility:\n",
      "Can compute AB? True\n",
      "Can compute BA? True\n",
      "\n",
      "(c) AB =\n",
      "[[19 -5]\n",
      " [-3 -3]]\n",
      "AB shape: (2, 2)\n",
      "\n",
      "BA =\n",
      "[[  2   7   5]\n",
      " [ -4   2  -6]\n",
      " [ 10 -17  12]]\n",
      "BA shape: (3, 3)\n",
      "\n",
      "(Bonus) Product dimensions:\n",
      "AB dimensions: A(2,3) × B(3,2) = result is (2,2)\n",
      "BA dimensions: B(3,2) × A(2,3) = result is (3,3)\n",
      "Rule: For matrix multiplication C = P × Q, if P is (m,n) and Q is (n,k), then C is (m,k)\n"
     ]
    }
   ],
   "source": [
    "# (a) Identify number of rows and columns for each matrix\n",
    "print('(a) Shapes:')\n",
    "print('A shape (rows, cols):', A.shape)\n",
    "print('B shape (rows, cols):', B.shape)\n",
    "\n",
    "# (b) Determine whether the matrices can be multiplied. if so specify whether its (AB),(BA), or both\n",
    "can_AB = A.shape[1] == B.shape[0]  # inner dims must match (3 == 3)\n",
    "can_BA = B.shape[1] == A.shape[0]  # inner dims must match (2 == 2)\n",
    "print('\\n(b) Multiplication compatibility:')\n",
    "print('Can compute AB?', can_AB)\n",
    "print('Can compute BA?', can_BA)\n",
    "\n",
    "# (c) Compute AB and BA when defined and document the results\n",
    "if can_AB:\n",
    "    AB = A @ B  # Matrix multiplication using @ operator\n",
    "    print('\\n(c) AB =')\n",
    "    print(AB)\n",
    "    print('AB shape:', AB.shape)\n",
    "else:\n",
    "    print('\\nAB is not defined')\n",
    "\n",
    "if can_BA:\n",
    "    BA = B @ A  # Matrix multiplication using @ operator\n",
    "    print('\\nBA =')\n",
    "    print(BA)\n",
    "    print('BA shape:', BA.shape)\n",
    "else:\n",
    "    print('\\nBA is not defined')\n",
    "\n",
    "# Bonus: What will be the dimensions of the product matrix if the multiplication is valid\n",
    "print('\\n(Bonus) Product dimensions:')\n",
    "print('AB dimensions: A(2,3) × B(3,2) = result is (2,2)')\n",
    "print('BA dimensions: B(3,2) × A(2,3) = result is (3,3)')\n",
    "print('Rule: For matrix multiplication C = P × Q, if P is (m,n) and Q is (n,k), then C is (m,k)')"
   ]
  },
  {
   "cell_type": "markdown",
   "id": "46f3fa8c",
   "metadata": {},
   "source": [
    "## Final answers (summary)\n",
    "- (a) A is 2 × 3 (2 rows, 3 columns). B is 3 × 2 (3 rows, 2 columns).\n",
    "- (b) Both products AB and BA are defined because:\n",
    "  - For AB: A's columns (3) = B's rows (3)\n",
    "  - For BA: B's columns (2) = A's rows (2)\n",
    "- (c) The computed matrices are:\n",
    "  - AB is a 2 × 2 matrix \n",
    "  - BA is a 3 × 3 matrix\n",
    "  - Numerical results are shown in the code cells above\n",
    "- (Bonus) Product dimensions follow the rule: (m,n) × (n,k) = (m,k)\n",
    "  - AB: (2,3) × (3,2) = (2,2)\n",
    "  - BA: (3,2) × (2,3) = (3,3)"
   ]
  }
 ],
 "metadata": {
  "kernelspec": {
   "display_name": ".venv",
   "language": "python",
   "name": "python3"
  },
  "language_info": {
   "codemirror_mode": {
    "name": "ipython",
    "version": 3
   },
   "file_extension": ".py",
   "mimetype": "text/x-python",
   "name": "python",
   "nbconvert_exporter": "python",
   "pygments_lexer": "ipython3",
   "version": "3.12.6"
  }
 },
 "nbformat": 4,
 "nbformat_minor": 5
}
