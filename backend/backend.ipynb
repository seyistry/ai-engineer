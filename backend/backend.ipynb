{
 "cells": [
  {
   "cell_type": "markdown",
   "id": "e95ec5d3",
   "metadata": {},
   "source": [
    "# Class work"
   ]
  },
  {
   "cell_type": "code",
   "execution_count": 18,
   "id": "6bf06db3",
   "metadata": {},
   "outputs": [
    {
     "name": "stdout",
     "output_type": "stream",
     "text": [
      "Bingo is a 5 year old Dog.\n"
     ]
    },
    {
     "data": {
      "text/plain": [
       "'Happy birthday, Bingo! You are now 5 years old.'"
      ]
     },
     "execution_count": 18,
     "metadata": {},
     "output_type": "execute_result"
    }
   ],
   "source": [
    "class Pet:\n",
    "\tdef __init__(self, name, species, age):\n",
    "\t\tself.name = name\n",
    "\t\tself.species = species\n",
    "\t\tself.age = age\n",
    "\n",
    "\tdef celebrate_birthday(self):\n",
    "\t\treturn f\"Happy birthday, {self.name}! You are now {self.age} years old.\"\n",
    "\n",
    "\tdef __str__(self):\n",
    "\t\treturn (f\"{self.name} is a {self.age} year old {self.species}.\")\n",
    "\n",
    "my_pet = Pet(\"Bingo\", \"Dog\", 5)\n",
    "print(my_pet)\n",
    "\n",
    "my_pet.celebrate_birthday()\n",
    "\n"
   ]
  },
  {
   "cell_type": "code",
   "execution_count": null,
   "id": "9d54fd02",
   "metadata": {},
   "outputs": [],
   "source": []
  }
 ],
 "metadata": {
  "kernelspec": {
   "display_name": ".venv",
   "language": "python",
   "name": "python3"
  },
  "language_info": {
   "codemirror_mode": {
    "name": "ipython",
    "version": 3
   },
   "file_extension": ".py",
   "mimetype": "text/x-python",
   "name": "python",
   "nbconvert_exporter": "python",
   "pygments_lexer": "ipython3",
   "version": "3.12.6"
  }
 },
 "nbformat": 4,
 "nbformat_minor": 5
}
