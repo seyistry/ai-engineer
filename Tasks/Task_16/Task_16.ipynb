{
 "cells": [
  {
   "cell_type": "markdown",
   "id": "989d6ead",
   "metadata": {},
   "source": [
    "### DEFINE MATRICE A AND B\n"
   ]
  },
  {
   "cell_type": "code",
   "execution_count": 1,
   "id": "47962424",
   "metadata": {},
   "outputs": [],
   "source": [
    "import numpy as np\n",
    "A = np.array([[2, -1],\n",
    "              [0, 3]])\n",
    "\n",
    "B = np.array([[1, 4],\n",
    "              [-2, 5]])\n",
    "\n",
    "# Define scalars\n",
    "c = 2\n",
    "d = 3"
   ]
  },
  {
   "cell_type": "markdown",
   "id": "86cdef77",
   "metadata": {},
   "source": [
    "### SCALAR MULTIPLICATION"
   ]
  },
  {
   "cell_type": "code",
   "execution_count": 5,
   "id": "4b20dff1",
   "metadata": {},
   "outputs": [
    {
     "name": "stdout",
     "output_type": "stream",
     "text": [
      "cA =\n",
      " [[ 4 -2]\n",
      " [ 0  6]]\n",
      "dB =\n",
      " [[ 3 12]\n",
      " [-6 15]]\n",
      "(c + d)A =\n",
      " [[10 -5]\n",
      " [ 0 15]]\n"
     ]
    }
   ],
   "source": [
    "cA = c * A\n",
    "print(\"cA =\\n\", cA)\n",
    "\n",
    "dB = d * B\n",
    "print(\"dB =\\n\", dB)\n",
    "\n",
    "# (c + d) * A\n",
    "cd_A = (c + d) * A\n",
    "print(\"(c + d)A =\\n\", cd_A)"
   ]
  },
  {
   "cell_type": "markdown",
   "id": "06225b1e",
   "metadata": {},
   "source": [
    "### ASSOCIATIVE OF SCALAR MULTIPLICATION   (c * d)A == c * (dA)"
   ]
  },
  {
   "cell_type": "code",
   "execution_count": 6,
   "id": "8b7d4cd4",
   "metadata": {},
   "outputs": [
    {
     "name": "stdout",
     "output_type": "stream",
     "text": [
      "(c * d)A =\n",
      " [[12 -6]\n",
      " [ 0 18]]\n",
      "c(dA) =\n",
      " [[12 -6]\n",
      " [ 0 18]]\n"
     ]
    }
   ],
   "source": [
    "cdA = (c * d) * A\n",
    "print(\"(c * d)A =\\n\", cdA)\n",
    "\n",
    "dA = d * A\n",
    "cdA_1 = c * dA\n",
    "print(\"c(dA) =\\n\", cdA_1)"
   ]
  },
  {
   "cell_type": "markdown",
   "id": "2c749b1c",
   "metadata": {},
   "source": [
    "### DISTRIBUTIVITY MATRIX ADDITTION  c(A + B) == cA + cB"
   ]
  },
  {
   "cell_type": "code",
   "execution_count": 4,
   "id": "ac1cf537",
   "metadata": {},
   "outputs": [
    {
     "name": "stdout",
     "output_type": "stream",
     "text": [
      "c(A + B) =\n",
      " [[ 6  6]\n",
      " [-4 16]]\n",
      "cA + cB =\n",
      " [[ 6  6]\n",
      " [-4 16]]\n"
     ]
    }
   ],
   "source": [
    "A_plus_B = A + B\n",
    "c_A_plus_B = c * A_plus_B\n",
    "print(\"c(A + B) =\\n\", c_A_plus_B)\n",
    "\n",
    "cB = c * B\n",
    "cA_plus_cB = cA + cB\n",
    "print(\"cA + cB =\\n\", cA_plus_cB)"
   ]
  },
  {
   "cell_type": "markdown",
   "id": "77190b1b",
   "metadata": {},
   "source": [
    "\n",
    "### Distributivity over scalar addition (c + d)A == cA + dA"
   ]
  },
  {
   "cell_type": "code",
   "execution_count": 7,
   "id": "e6f7c03e",
   "metadata": {},
   "outputs": [
    {
     "name": "stdout",
     "output_type": "stream",
     "text": [
      "cA + dA =\n",
      " [[10 -5]\n",
      " [ 0 15]]\n"
     ]
    }
   ],
   "source": [
    "cdA_again = cA + dA\n",
    "print(\"cA + dA =\\n\", cdA_again)\n"
   ]
  },
  {
   "cell_type": "markdown",
   "id": "3a4dcdb4",
   "metadata": {},
   "source": [
    "\n",
    "### Transposes"
   ]
  },
  {
   "cell_type": "code",
   "execution_count": 8,
   "id": "1c5da4fc",
   "metadata": {},
   "outputs": [
    {
     "name": "stdout",
     "output_type": "stream",
     "text": [
      "Transpose of A:\n",
      " [[ 2  0]\n",
      " [-1  3]]\n",
      "Transpose of B:\n",
      " [[ 1 -2]\n",
      " [ 4  5]]\n"
     ]
    }
   ],
   "source": [
    "\n",
    "A_T = A.T\n",
    "print(\"Transpose of A:\\n\", A_T)\n",
    "\n",
    "B_T = B.T\n",
    "print(\"Transpose of B:\\n\", B_T)"
   ]
  }
 ],
 "metadata": {
  "kernelspec": {
   "display_name": "Python 3",
   "language": "python",
   "name": "python3"
  },
  "language_info": {
   "codemirror_mode": {
    "name": "ipython",
    "version": 3
   },
   "file_extension": ".py",
   "mimetype": "text/x-python",
   "name": "python",
   "nbconvert_exporter": "python",
   "pygments_lexer": "ipython3",
   "version": "3.13.6"
  }
 },
 "nbformat": 4,
 "nbformat_minor": 5
}
