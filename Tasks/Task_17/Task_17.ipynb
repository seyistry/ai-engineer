{
 "cells": [
  {
   "cell_type": "markdown",
   "id": "cbb502e2",
   "metadata": {},
   "source": [
    "### 3.1 Representing Data as a Matrix"
   ]
  },
  {
   "cell_type": "code",
   "execution_count": 71,
   "id": "8933cb01",
   "metadata": {},
   "outputs": [],
   "source": [
    "import numpy as np\n",
    "student_matrix =  np.array([[80, 70, 90], \n",
    "                            [60, 85, 75], \n",
    "                            [95, 88, 92], \n",
    "                            [70, 60, 65]]) "
   ]
  },
  {
   "cell_type": "markdown",
   "id": "fd084a63",
   "metadata": {},
   "source": [
    "### 3.2 Total Scores per Student (Vector Addition) "
   ]
  },
  {
   "cell_type": "code",
   "execution_count": 72,
   "id": "b43bd33f",
   "metadata": {},
   "outputs": [
    {
     "name": "stdout",
     "output_type": "stream",
     "text": [
      "\n",
      "Total scores per student:\n",
      "student_1 total score: 240\n",
      "student_2 total score: 220\n",
      "student_3 total score: 275\n",
      "student_4 total score: 195\n"
     ]
    }
   ],
   "source": [
    "\n",
    "student_matrix_sum = np.sum(student_matrix, axis=1)\n",
    "print(\"\\nTotal scores per student:\")\n",
    "\n",
    "for i,total in enumerate(student_matrix_sum): \n",
    "    print(f\"student_{i+1} total score: {total}\")\n"
   ]
  },
  {
   "cell_type": "markdown",
   "id": "fa3150a0",
   "metadata": {},
   "source": [
    "### 3.3 Applying Weights (Scalar Multiplication)"
   ]
  },
  {
   "cell_type": "code",
   "execution_count": 73,
   "id": "dfd56dab",
   "metadata": {},
   "outputs": [
    {
     "name": "stdout",
     "output_type": "stream",
     "text": [
      "[[160  70  90]\n",
      " [120  85  75]\n",
      " [190  88  92]\n",
      " [140  60  65]]\n"
     ]
    }
   ],
   "source": [
    "weight = [2, 1, 1]\n",
    "weighted_scores1 = student_matrix * weight\n",
    "print(weighted_scores1)"
   ]
  },
  {
   "cell_type": "markdown",
   "id": "087caf04",
   "metadata": {},
   "source": [
    "### 3.4 Average Score per Subject (Matrix Operations) "
   ]
  },
  {
   "cell_type": "code",
   "execution_count": 74,
   "id": "78662386",
   "metadata": {},
   "outputs": [
    {
     "name": "stdout",
     "output_type": "stream",
     "text": [
      "Mathematics Average score: 76.25\n",
      "English Language Average score: 75.75\n",
      "Science Average score: 80.5\n"
     ]
    }
   ],
   "source": [
    "\n",
    "subject_matrix_mean = np.mean(student_matrix, axis=0)\n",
    "subjects2 = [\"Mathematics\", \"English Language\", \"Science\"]\n",
    "# print(\"\\n-- Student's Subjects Average Scores--\")\n",
    "for i, average1 in enumerate(subject_matrix_mean):\n",
    "    print(f\"{subjects2[i]} Average score: {average1}\")"
   ]
  },
  {
   "cell_type": "markdown",
   "id": "09587557",
   "metadata": {},
   "source": [
    "### 3.5 Final Grades using Matrix Multiplication "
   ]
  },
  {
   "cell_type": "code",
   "execution_count": 75,
   "id": "c4549e73",
   "metadata": {},
   "outputs": [
    {
     "name": "stdout",
     "output_type": "stream",
     "text": [
      "(array([[40. , 21. , 18. ],\n",
      "       [30. , 25.5, 15. ],\n",
      "       [47.5, 26.4, 18.4],\n",
      "       [35. , 18. , 13. ]]),)\n"
     ]
    }
   ],
   "source": [
    "weights_mat_mult = np.array([0.5, 0.3, 0.2]) \n",
    "\n",
    "final_grades = student_matrix * weights_mat_mult,\n",
    "print(final_grades)"
   ]
  },
  {
   "cell_type": "markdown",
   "id": "b5aacb78",
   "metadata": {},
   "source": [
    "### 3.6 Comparing Students (Vector Subtraction) "
   ]
  },
  {
   "cell_type": "code",
   "execution_count": 76,
   "id": "bbfd1fc5",
   "metadata": {},
   "outputs": [
    {
     "name": "stdout",
     "output_type": "stream",
     "text": [
      "Student 1 - Student 2:\n",
      " [-35  -3 -17]\n",
      "Student 2 scored higher in Math by 35 points.\n",
      "Student 2 scored higher in English by 3 points.\n",
      "Student 2 scored higher in Science by 17 points.\n"
     ]
    }
   ],
   "source": [
    "student1 = student_matrix[1]\n",
    "student2 = student_matrix[2]\n",
    "\n",
    "comparison = student1 - student2\n",
    "print(\"Student 1 - Student 2:\\n\", comparison)\n",
    "\n",
    "\n",
    "for i, diff in enumerate(comparison):\n",
    "    subject = [\"Math\", \"English\", \"Science\", \"History\"][i]\n",
    "    if diff > 0:\n",
    "        print(f\"Student 1 scored higher in {subject} by {diff} points.\")\n",
    "    elif diff < 0:\n",
    "        print(f\"Student 2 scored higher in {subject} by {-diff} points.\")\n",
    "    else:\n",
    "        print(f\"Both students scored the same in {subject}.\")"
   ]
  },
  {
   "cell_type": "markdown",
   "id": "73d01bb7",
   "metadata": {},
   "source": [
    "### Create a 5×4 matrix of scores and calculating the student's total score and average per subject"
   ]
  },
  {
   "cell_type": "code",
   "execution_count": null,
   "id": "104f74b8",
   "metadata": {},
   "outputs": [
    {
     "name": "stdout",
     "output_type": "stream",
     "text": [
      "[[80 70 90 60]\n",
      " [85 75 95 65]\n",
      " [78 82 88 70]\n",
      " [92 68 84 75]\n",
      " [76 80 85 72]]\n",
      "\n",
      "Total scores per student:\n",
      "student_1 total score: 300\n",
      "student_2 total score: 320\n",
      "student_3 total score: 318\n",
      "student_4 total score: 319\n",
      "student_5 total score: 313\n",
      "\n",
      "-- Student's Subjects Average Scores--\n",
      " Mathematics Average score: 82.2\n",
      " English Language Average score: 75.0\n",
      " Chemistry Average score: 88.4\n",
      " Pyhsics Average score: 68.4\n"
     ]
    }
   ],
   "source": [
    "\n",
    "\n",
    "student_scores = np.array([[80, 70, 90, 60],  \n",
    "                   [85, 75, 95, 65],  \n",
    "                   [78, 82, 88, 70], \n",
    "                   [92, 68, 84, 75],  \n",
    "                   [76, 80, 85, 72]])\n",
    "\n",
    "print(student_scores)\n",
    "\n",
    " \n",
    "student_totals = np.sum(student_scores, axis=1)\n",
    "print(\"\\nTotal scores per student:\")\n",
    "\n",
    "for i,total in enumerate(student_totals): \n",
    "    print(f\"student_{i+1} total score: {total}\")\n",
    "\n",
    "\n",
    "subject_averages = np.mean(student_scores, axis=0)\n",
    "subjects = [\"Mathematics\", \"English Language\", \"Chemistry\", \"Pyhsics\"]\n",
    "print(\"\\n-- Student's Subjects Average Scores--\")\n",
    "for i, average in enumerate(subject_averages):\n",
    "    print(f\" {subjects[i]} Average score: {average}\")\n",
    "\n",
    "\n"
   ]
  },
  {
   "cell_type": "markdown",
   "id": "10613442",
   "metadata": {},
   "source": [
    "###  scalar multiplication and recomputing totals "
   ]
  },
  {
   "cell_type": "code",
   "execution_count": 36,
   "id": "9da4265b",
   "metadata": {},
   "outputs": [
    {
     "name": "stdout",
     "output_type": "stream",
     "text": [
      "Weighted total scores per student (Science x3):\n",
      "\n",
      "student_1 Weigthed score: 480\n",
      "student_2 Weigthed score: 510\n",
      "student_3 Weigthed score: 494\n",
      "student_4 Weigthed score: 487\n",
      "student_5 Weigthed score: 483\n"
     ]
    }
   ],
   "source": [
    "\n",
    "weighted_scores = student_scores.copy()\n",
    "weighted_scores[:, 2] *= 3  \n",
    "\n",
    "\n",
    "weighted_totals = np.sum(weighted_scores, axis=1)\n",
    "print(\"Weighted total scores per student (Science x3):\\n\")\n",
    "\n",
    "\n",
    "for i,wtotal in enumerate(weighted_totals): \n",
    "    print(f\"student_{i+1} Weigthed score: {wtotal}\")\n"
   ]
  },
  {
   "cell_type": "markdown",
   "id": "8cbeec41",
   "metadata": {},
   "source": [
    "### Define new weights for grading (e.g., 40%, 20%, 30%, 10%). Compute final grades using matrix multiplication"
   ]
  },
  {
   "cell_type": "code",
   "execution_count": null,
   "id": "7585e8e4",
   "metadata": {},
   "outputs": [
    {
     "name": "stdout",
     "output_type": "stream",
     "text": [
      "(array([[32. , 14. , 27. ,  6. ],\n",
      "       [34. , 15. , 28.5,  6.5],\n",
      "       [31.2, 16.4, 26.4,  7. ],\n",
      "       [36.8, 13.6, 25.2,  7.5],\n",
      "       [30.4, 16. , 25.5,  7.2]]),)\n"
     ]
    }
   ],
   "source": [
    "\n",
    "weights = np.array([0.4, 0.2, 0.3, 0.1]) \n",
    "\n",
    "final_grades = student_scores * weights,\n",
    "print(final_grades)\n",
    "\n",
    "\n"
   ]
  },
  {
   "cell_type": "markdown",
   "id": "48526e77",
   "metadata": {},
   "source": [
    "###  Compare Student 3 and Student 4 using vector subtraction. Who performed better in each subject? "
   ]
  },
  {
   "cell_type": "code",
   "execution_count": null,
   "id": "00337611",
   "metadata": {},
   "outputs": [
    {
     "name": "stdout",
     "output_type": "stream",
     "text": [
      "Student 3 - Student 4:\n",
      " [-14  14   4  -5]\n",
      "Student 4 scored higher in Math by 14 points.\n",
      "Student 3 scored higher in English by 14 points.\n",
      "Student 3 scored higher in Science by 4 points.\n",
      "Student 4 scored higher in History by 5 points.\n"
     ]
    }
   ],
   "source": [
    "student3 = student_scores[2]\n",
    "student4 = student_scores[3]\n",
    "\n",
    "comparison = student3 - student4\n",
    "print(\"Student 3 - Student 4:\\n\", comparison)\n",
    "\n",
    "\n",
    "for i, diff in enumerate(comparison):\n",
    "    subject = [\"Math\", \"English\", \"Science\", \"History\"][i]\n",
    "    if diff > 0:\n",
    "        print(f\"Student 3 scored higher in {subject} by {diff} points.\")\n",
    "    elif diff < 0:\n",
    "        print(f\"Student 4 scored higher in {subject} by {-diff} points.\")\n",
    "    else:\n",
    "        print(f\"Both students scored the same in {subject}.\")\n"
   ]
  }
 ],
 "metadata": {
  "kernelspec": {
   "display_name": "Python 3",
   "language": "python",
   "name": "python3"
  },
  "language_info": {
   "codemirror_mode": {
    "name": "ipython",
    "version": 3
   },
   "file_extension": ".py",
   "mimetype": "text/x-python",
   "name": "python",
   "nbconvert_exporter": "python",
   "pygments_lexer": "ipython3",
   "version": "3.13.6"
  }
 },
 "nbformat": 4,
 "nbformat_minor": 5
}
