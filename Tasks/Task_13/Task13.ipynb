{
 "cells": [
  {
   "cell_type": "markdown",
   "id": "774886e1",
   "metadata": {},
   "source": [
    "#Task 1"
   ]
  },
  {
   "cell_type": "code",
   "execution_count": 1,
   "id": "433f2fdf",
   "metadata": {},
   "outputs": [
    {
     "name": "stdout",
     "output_type": "stream",
     "text": [
      "[[36  4 45 23 19 24]\n",
      " [46  5 27 25 47 17]\n",
      " [38  4 41 13  1 22]\n",
      " [27  4 40 11  3 29]\n",
      " [24  2 32 46 13 49]\n",
      " [38  3 23 33 42 28]]\n"
     ]
    }
   ],
   "source": [
    "import numpy as np\n",
    "\n",
    "arr = np.random.randint(1, 51, size=(6,6))\n",
    "print(arr)"
   ]
  },
  {
   "cell_type": "markdown",
   "id": "e44e2a13",
   "metadata": {},
   "source": [
    "#Task 2"
   ]
  },
  {
   "cell_type": "code",
   "execution_count": 4,
   "id": "8d476875",
   "metadata": {},
   "outputs": [
    {
     "name": "stdout",
     "output_type": "stream",
     "text": [
      "[36  4 45 23 19 24] [46  5 27 25 47 17]\n"
     ]
    }
   ],
   "source": [
    "row_1 = arr[0] \n",
    "row_2 = arr[1]\n",
    "\n",
    "print(row_1,row_2)\n"
   ]
  },
  {
   "cell_type": "markdown",
   "id": "086bd938",
   "metadata": {},
   "source": [
    "Task3"
   ]
  },
  {
   "cell_type": "code",
   "execution_count": 5,
   "id": "881eff19",
   "metadata": {},
   "outputs": [
    {
     "name": "stdout",
     "output_type": "stream",
     "text": [
      "[[[36  4 45 23 19 24]\n",
      "  [46  5 27 25 47 17]]\n",
      "\n",
      " [[38  4 41 13  1 22]\n",
      "  [27  4 40 11  3 29]]\n",
      "\n",
      " [[24  2 32 46 13 49]\n",
      "  [38  3 23 33 42 28]]]\n"
     ]
    }
   ],
   "source": [
    "arr3d = arr.reshape(3, 2, 6) \n",
    "print(arr3d)"
   ]
  },
  {
   "cell_type": "code",
   "execution_count": 6,
   "id": "54723bb8",
   "metadata": {},
   "outputs": [
    {
     "name": "stdout",
     "output_type": "stream",
     "text": [
      "[36  4 45 23 19 24 46  5 27 25 47 17 38  4 41 13  1 22 27  4 40 11  3 29\n",
      " 24  2 32 46 13 49 38  3 23 33 42 28]\n"
     ]
    }
   ],
   "source": [
    "arr1d = arr3d.flatten()\n",
    "print(arr1d)"
   ]
  },
  {
   "cell_type": "markdown",
   "id": "b8b2e4d3",
   "metadata": {},
   "source": [
    "Task 4"
   ]
  },
  {
   "cell_type": "code",
   "execution_count": 8,
   "id": "021f2b50",
   "metadata": {},
   "outputs": [
    {
     "name": "stdout",
     "output_type": "stream",
     "text": [
      "[[10.  0.  0.  0.]\n",
      " [ 0. 20.  0.  0.]\n",
      " [ 0.  0. 30.  0.]\n",
      " [ 0.  0.  0. 40.]]\n"
     ]
    }
   ],
   "source": [
    "id_matrix = np.eye(4)\n",
    "\n",
    "\n",
    "diag_values = np.arange(10, 50,10)[:4]\n",
    "np.fill_diagonal(id_matrix, diag_values)\n",
    "print(id_matrix)"
   ]
  },
  {
   "cell_type": "code",
   "execution_count": null,
   "id": "83da4325",
   "metadata": {},
   "outputs": [],
   "source": [
    "Task5"
   ]
  },
  {
   "cell_type": "code",
   "execution_count": 10,
   "id": "8032c606",
   "metadata": {},
   "outputs": [
    {
     "name": "stdout",
     "output_type": "stream",
     "text": [
      "[[ 5  3  9  8]\n",
      " [ 6  3 10  9]\n",
      " [ 1  1  1 10]]\n",
      "[[ 7  1  3]\n",
      " [ 2  4 10]\n",
      " [ 6  6  7]\n",
      " [10  4  8]]\n",
      "[[175 103 172]\n",
      " [198 114 190]\n",
      " [115  51 100]]\n"
     ]
    }
   ],
   "source": [
    "num_1 = np.random.randint(1,11, size= (3,4))\n",
    "print(num_1)\n",
    "\n",
    "num_2 = np.random.randint(1,11,  size= (4,3))\n",
    "print(num_2)\n",
    "\n",
    "multpy = np.matmul(num_1,num_2)\n",
    "print(multpy)"
   ]
  }
 ],
 "metadata": {
  "kernelspec": {
   "display_name": "myenv",
   "language": "python",
   "name": "python3"
  },
  "language_info": {
   "codemirror_mode": {
    "name": "ipython",
    "version": 3
   },
   "file_extension": ".py",
   "mimetype": "text/x-python",
   "name": "python",
   "nbconvert_exporter": "python",
   "pygments_lexer": "ipython3",
   "version": "3.13.6"
  }
 },
 "nbformat": 4,
 "nbformat_minor": 5
}
