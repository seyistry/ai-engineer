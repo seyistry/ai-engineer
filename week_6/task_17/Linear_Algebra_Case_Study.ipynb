{
 "cells": [
  {
   "cell_type": "markdown",
   "id": "fc577192",
   "metadata": {},
   "source": [
    "# Linear Algebra Case Study\n",
    "\n",
    "## Problem Setup\n",
    "We have the scores of 4 students in 3 subjects (Mathematics, English, Science):\n",
    "| Student   | Math | English | Science |\n",
    "|-----------|------|---------|---------|\n",
    "| Student 1 |  80  |   70    |   90    |\n",
    "| Student 2 |  60  |   85    |   75    |\n",
    "| Student 3 |  95  |   88    |   92    |\n",
    "| Student 4 |  70  |   60    |   65    |\n",
    "\n",
    "## student matrix\n",
    "student_data = \t[[80, 70, 90],\n",
    "\t\t\t\t[60, 85, 75],\n",
    "\t\t\t\t[95, 88, 92],\n",
    "\t\t\t\t[70, 60, 65]]"
   ]
  },
  {
   "cell_type": "markdown",
   "id": "a82f3b43",
   "metadata": {},
   "source": []
  },
  {
   "cell_type": "code",
   "execution_count": 2,
   "id": "e14cf9cf",
   "metadata": {},
   "outputs": [],
   "source": [
    "import numpy as np"
   ]
  },
  {
   "cell_type": "code",
   "execution_count": null,
   "id": "4844e3b7",
   "metadata": {},
   "outputs": [],
   "source": [
    "# 3.1 Representing Data as a Matrix\n",
    "student_data = \tnp.array([[80, 70, 90],[60, 85, 75],[95, 88, 92],[70, 60, 65]])\n",
    "print(\"Student Data Matrix:\")\n",
    "print(student_data)"
   ]
  },
  {
   "cell_type": "code",
   "execution_count": 5,
   "id": "991a793c",
   "metadata": {},
   "outputs": [
    {
     "name": "stdout",
     "output_type": "stream",
     "text": [
      "\n",
      "Total Scores per Student:\n",
      "[240 220 275 195]\n"
     ]
    }
   ],
   "source": [
    "# 3.2 Total Scores per Student (Vector Addition)\n",
    "total_scores = np.sum(student_data, axis=1)\n",
    "print(\"\\nTotal Scores per Student:\")\n",
    "print(total_scores)"
   ]
  },
  {
   "cell_type": "code",
   "execution_count": 7,
   "id": "61f33d2b",
   "metadata": {},
   "outputs": [
    {
     "name": "stdout",
     "output_type": "stream",
     "text": [
      "\n",
      "Weighted Scores:\n",
      "[[160  70  90]\n",
      " [120  85  75]\n",
      " [190  88  92]\n",
      " [140  60  65]]\n"
     ]
    }
   ],
   "source": [
    "# Applying Weights (Scalar Multiplication)\n",
    "weights = np.array([2, 1, 1])  # Math, Science, English weights\n",
    "weighted_scores = student_data * weights\n",
    "print(\"\\nWeighted Scores:\")\n",
    "print(weighted_scores)"
   ]
  },
  {
   "cell_type": "code",
   "execution_count": 9,
   "id": "056971a4",
   "metadata": {},
   "outputs": [
    {
     "name": "stdout",
     "output_type": "stream",
     "text": [
      "\n",
      "Average Scores per Subject:\n",
      "[76.25 75.75 80.5 ]\n"
     ]
    }
   ],
   "source": [
    "# 3.4 Average Score per Subject (Matrix Operations)\n",
    "average_scores = np.mean(student_data, axis=0)\n",
    "print(\"\\nAverage Scores per Subject:\")\n",
    "print(average_scores)"
   ]
  },
  {
   "cell_type": "code",
   "execution_count": 11,
   "id": "fe3cb8e0",
   "metadata": {},
   "outputs": [
    {
     "name": "stdout",
     "output_type": "stream",
     "text": [
      "\n",
      "Final Grades:\n",
      "[80.   70.   92.5  66.25]\n"
     ]
    }
   ],
   "source": [
    "# Final Grades using Matrix Multiplication\n",
    "final_grades = np.dot(student_data, weights) / np.sum(weights)\n",
    "print(\"\\nFinal Grades:\")\n",
    "print(final_grades)"
   ]
  },
  {
   "cell_type": "code",
   "execution_count": 12,
   "id": "0a17c040",
   "metadata": {},
   "outputs": [
    {
     "name": "stdout",
     "output_type": "stream",
     "text": [
      "\n",
      "Comparison between Student 1 and Student 2:\n",
      "[ 20 -15  15]\n"
     ]
    }
   ],
   "source": [
    "# 3.6 Comparing Students (Vector Subtraction)\n",
    "comparison = student_data[0] - student_data[1]\n",
    "print(\"\\nComparison between Student 1 and Student 2:\")\n",
    "print(comparison)"
   ]
  }
 ],
 "metadata": {
  "kernelspec": {
   "display_name": ".venv",
   "language": "python",
   "name": "python3"
  },
  "language_info": {
   "codemirror_mode": {
    "name": "ipython",
    "version": 3
   },
   "file_extension": ".py",
   "mimetype": "text/x-python",
   "name": "python",
   "nbconvert_exporter": "python",
   "pygments_lexer": "ipython3",
   "version": "3.12.6"
  }
 },
 "nbformat": 4,
 "nbformat_minor": 5
}
