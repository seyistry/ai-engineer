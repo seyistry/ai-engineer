{
 "cells": [
  {
   "cell_type": "markdown",
   "id": "fc577192",
   "metadata": {},
   "source": [
    "# Linear Algebra Case Study"
   ]
  }
 ],
 "metadata": {
  "language_info": {
   "name": "python"
  }
 },
 "nbformat": 4,
 "nbformat_minor": 5
}
