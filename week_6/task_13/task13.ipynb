{
 "cells": [
  {
   "cell_type": "markdown",
   "id": "914c0555",
   "metadata": {},
   "source": [
    "\n",
    "\n",
    "1. Create a 6x6 NumPy array with random integers between 1 and 50. Display the array.\n",
    "\n",
    "2. Extract the following from the array you created in Question 1: The first two rows. The last three columns. All even numbers in the array.\n",
    "\n",
    "3. Perform the following array transformations: Reshape the array into a 3D (3, 2, 6) array. Flatten the reshaped array back to 1D.\n",
    "\n",
    "4. Generate a 4x4 identity matrix and replace the diagonal with numbers from 10 to 40, with a step of 10.\n",
    "\n",
    "5. Perform matrix multiplication between: A 3x4 matrix of random integers (1-10) A 4x3 matrix of random integers (1-10)\n",
    "\n",
    "6. Create a function that takes a 2D NumPy array as input and returns a new array where: All even numbers are squared. All odd numbers are replaced by -1."
   ]
  },
  {
   "cell_type": "markdown",
   "id": "2d997be9",
   "metadata": {},
   "source": []
  },
  {
   "cell_type": "markdown",
   "id": "f296153b",
   "metadata": {},
   "source": []
  }
 ],
 "metadata": {
  "language_info": {
   "name": "python"
  }
 },
 "nbformat": 4,
 "nbformat_minor": 5
}
