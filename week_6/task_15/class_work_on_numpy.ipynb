{
 "cells": [
  {
   "cell_type": "markdown",
   "id": "5efa77a4",
   "metadata": {},
   "source": [
    "# Class task 3\n",
    "- let A = [[2, 1],[0,3]]\n",
    "- let B = [[1, 4],[-2,5]]\n",
    "- let c = 2\n",
    "- let d = 3\n",
    "\n",
    "- (a) Compute the following (cA),  (dB) and (c + d)A\n",
    "- (b) Using the result gotten, Verify the Scalar multiplication properties\n",
    "- (C) Find the transpose of both matrices\n",
    "- (d) Check if (A) and (B) are invertible by computing their determinants, if they are invertible find A^(-1) and B^(-1)"
   ]
  },
  {
   "cell_type": "code",
   "execution_count": 2,
   "id": "47e63945",
   "metadata": {},
   "outputs": [
    {
     "name": "stdout",
     "output_type": "stream",
     "text": [
      "A: =\n",
      " [[2 1]\n",
      " [0 3]]\n",
      "B: =\n",
      " [[ 1  4]\n",
      " [-2  5]]\n",
      "c: =\n",
      " 2\n",
      "d: =\n",
      " 3\n"
     ]
    }
   ],
   "source": [
    "import numpy as np\n",
    "\n",
    "A = np.array([[2, 1],[0,3]])\n",
    "B = np.array([[1, 4],[-2,5]])\n",
    "c = 2\n",
    "d = 3\n",
    "\n",
    "print(\"A: =\\n\", A)\n",
    "print(\"B: =\\n\", B)\n",
    "print(\"c: =\\n\", c)\n",
    "print(\"d: =\\n\", d)"
   ]
  },
  {
   "cell_type": "code",
   "execution_count": 3,
   "id": "473a5f0c",
   "metadata": {},
   "outputs": [
    {
     "name": "stdout",
     "output_type": "stream",
     "text": [
      "cA =\n",
      " [[4 2]\n",
      " [0 6]]\n",
      "dB =\n",
      " [[ 3 12]\n",
      " [-6 15]]\n",
      "cdA =\n",
      " [[10  5]\n",
      " [ 0 15]]\n"
     ]
    }
   ],
   "source": [
    "# Compute the following (cA),  (dB) and (c + d)A\n",
    "cA = c * A\n",
    "dB = d * B\n",
    "cdA = (c + d) * A\n",
    "\n",
    "print(\"cA =\\n\", cA)\n",
    "print(\"dB =\\n\", dB)\n",
    "print(\"cdA =\\n\", cdA)"
   ]
  },
  {
   "cell_type": "code",
   "execution_count": 4,
   "id": "ec9e6274",
   "metadata": {},
   "outputs": [],
   "source": [
    "# Using the result gotten, Verify the Scalar multiplication properties\n",
    "\n",
    "if np.array_equal(cA + dB, cdA):\n",
    "\tprint(\"The scalar multiplication properties hold: cA + dB = (c + d)A\")"
   ]
  },
  {
   "cell_type": "code",
   "execution_count": 8,
   "id": "8367233e",
   "metadata": {},
   "outputs": [
    {
     "name": "stdout",
     "output_type": "stream",
     "text": [
      "A^T =\n",
      " [[2 0]\n",
      " [1 3]]\n",
      "B^T =\n",
      " [[ 1 -2]\n",
      " [ 4  5]]\n"
     ]
    }
   ],
   "source": [
    "# Find the transpose of both matrices\n",
    "\n",
    "A_T = A.T\n",
    "B_T = B.T\n",
    "\n",
    "print(\"A^T =\\n\", A_T)\n",
    "print(\"B^T =\\n\", B_T)"
   ]
  },
  {
   "cell_type": "code",
   "execution_count": 9,
   "id": "01c5f829",
   "metadata": {},
   "outputs": [
    {
     "name": "stdout",
     "output_type": "stream",
     "text": [
      "A^(-1) =\n",
      " [[ 0.5        -0.16666667]\n",
      " [ 0.          0.33333333]]\n",
      "B^(-1) =\n",
      " [[ 0.38461538 -0.30769231]\n",
      " [ 0.15384615  0.07692308]]\n"
     ]
    }
   ],
   "source": [
    "# Check if (A) and (B) are invertible by computing their determinants, if they are invertible find A^(-1) and B^(-1)\n",
    "det_A = np.linalg.det(A)\n",
    "det_B = np.linalg.det(B)\n",
    "\n",
    "if det_A != 0:\n",
    "    A_inv = np.linalg.inv(A)\n",
    "    print(\"A^(-1) =\\n\", A_inv)\n",
    "else:\n",
    "    print(\"A is not invertible\")\n",
    "\n",
    "if det_B != 0:\n",
    "    B_inv = np.linalg.inv(B)\n",
    "    print(\"B^(-1) =\\n\", B_inv)\n",
    "else:\n",
    "    print(\"B is not invertible\")"
   ]
  }
 ],
 "metadata": {
  "kernelspec": {
   "display_name": ".venv",
   "language": "python",
   "name": "python3"
  },
  "language_info": {
   "codemirror_mode": {
    "name": "ipython",
    "version": 3
   },
   "file_extension": ".py",
   "mimetype": "text/x-python",
   "name": "python",
   "nbconvert_exporter": "python",
   "pygments_lexer": "ipython3",
   "version": "3.12.6"
  }
 },
 "nbformat": 4,
 "nbformat_minor": 5
}
