{
  "cells": [
    {
      "cell_type": "markdown",
      "metadata": {},
      "source": [
        "# **DATA PREPROCESSING BASED ON EDA INSIGHTS**"
      ]
    },
    {
      "cell_type": "markdown",
      "metadata": {},
      "source": [
        "This notebook implements preprocessing steps based on the comprehensive EDA findings and recommendations. We'll follow the evidence-based approach from the EDA report to ensure our preprocessing aligns with the data patterns discovered.\n",
        "Based on the EDA report, we will:\n",
        "\n",
        "1. **Handle Skewed Variables** - Log-transform `residual sugar`, `total sulfur dioxide`, `chlorides`\n",
        "2. **Outlier Treatment** - IQR-capping for extreme acidity/sulphates \n",
        "3. **Feature Engineering** - Create acidity ratios and interaction features\n",
        "4. **Feature Selection** - Keep high-signal features, evaluate low-signal ones\n",
        "5. **Scaling** - StandardScaler for distance-based models\n",
        "6. **Target Handling** - Classification approach with stratified splits\n",
        "\n",
        "**Key EDA Evidence to Implement**\n",
        "\n",
        "- **High-signal features**: `alcohol`, `volatile acidity`, `sulphates`, `citric acid`, `density`, `chlorides`\n",
        "- **Low-signal features**: `residual sugar`, `free sulfur dioxide` (evaluate for removal)\n",
        "- **Skewed variables**: `residual sugar`, `total sulfur dioxide`, `chlorides` (log-transform)\n",
        "- **Feature engineering**: Acidity ratios, alcohol-acidity interactions, fermentation efficiency\n"
      ]
    },
    {
      "cell_type": "markdown",
      "metadata": {},
      "source": [
        "#### **1. Import Libraries and Load Data**"
      ]
    },
    {
      "cell_type": "code",
      "execution_count": 4,
      "metadata": {},
      "outputs": [
        {
          "name": "stdout",
          "output_type": "stream",
          "text": [
            "Libraries imported successfully!\n"
          ]
        }
      ],
      "source": [
        "# Core libraries\n",
        "import pandas as pd\n",
        "import numpy as np\n",
        "import matplotlib.pyplot as plt\n",
        "import seaborn as sns\n",
        "import zipfile\n",
        "import warnings\n",
        "warnings.filterwarnings('ignore')\n",
        "\n",
        "# Preprocessing libraries\n",
        "from sklearn.preprocessing import StandardScaler, RobustScaler\n",
        "from sklearn.model_selection import train_test_split, StratifiedKFold\n",
        "from sklearn.feature_selection import SelectKBest, f_classif, mutual_info_classif\n",
        "from sklearn.ensemble import IsolationForest\n",
        "from sklearn.metrics import classification_report, confusion_matrix\n",
        "\n",
        "# Statistical libraries\n",
        "from scipy import stats\n",
        "from scipy.stats import zscore, skew\n",
        "\n",
        "# Set style for better visualizations\n",
        "plt.style.use('seaborn-v0_8')\n",
        "sns.set_palette(\"husl\")\n",
        "\n",
        "print(\"Libraries imported successfully!\")\n"
      ]
    },
    {
      "cell_type": "code",
      "execution_count": 5,
      "metadata": {},
      "outputs": [
        {
          "name": "stdout",
          "output_type": "stream",
          "text": [
            "File Name                                             Modified             Size\n",
            "winequality-red.csv                            2023-05-22 22:24:00        84199\n",
            "winequality-white.csv                          2023-05-22 22:24:00       264426\n",
            "winequality.names                              2023-05-22 22:24:00         3305\n"
          ]
        }
      ],
      "source": [
        "# Load in the dataset\n",
        "\n",
        "zip_path = r\"C:\\Users\\THINKPAD\\Desktop\\LM\\6-weeks-Introductory-AI-course\\Machine_Learning\\Datasets\\wine+quality.zip\"\n",
        "\n",
        "with zipfile.ZipFile(zip_path, 'r') as zip_ref:\n",
        "    zip_ref.printdir()\n",
        "    #zip_ref.extractall(\"Datasets\")"
      ]
    },
    {
      "cell_type": "code",
      "execution_count": 6,
      "metadata": {},
      "outputs": [],
      "source": [
        "with zipfile.ZipFile(zip_path) as z:\n",
        "    with z.open('winequality-red.csv') as f:\n",
        "        red_wine = pd.read_csv(f,sep = \";\")"
      ]
    },
    {
      "cell_type": "markdown",
      "metadata": {},
      "source": [
        "#### **2. EDA-Based Data Quality Assessment**"
      ]
    },
    {
      "cell_type": "markdown",
      "metadata": {},
      "source": [
        "Based on EDA findings, let's assess the specific issues identified"
      ]
    },
    {
      "cell_type": "code",
      "execution_count": null,
      "metadata": {},
      "outputs": [
        {
          "name": "stdout",
          "output_type": "stream",
          "text": [
            "\n",
            "1. Missing Values:\n",
            "No missing values found (as expected from EDA)\n",
            "\n",
            "2. Duplicate Rows:\n",
            "Number of duplicate rows: 240\n",
            "Percentage of duplicates: 15.01%\n",
            "\n",
            "3. Skewness Analysis (EDA identified right-skewed variables):\n",
            "residual sugar: skewness = 4.536 (right-skewed)\n",
            "total sulfur dioxide: skewness = 1.514 (right-skewed)\n",
            "chlorides: skewness = 5.675 (right-skewed)\n",
            "\n",
            "4. Correlation with Quality (EDA Evidence):\n",
            "High-signal features (|correlation| > 0.2):\n",
            "  alcohol: 0.476\n",
            "  volatile acidity: -0.391\n",
            "  sulphates: 0.251\n",
            "  citric acid: 0.226\n",
            "\n",
            "Low-signal features (|correlation| < 0.1):\n",
            "  pH: -0.058\n",
            "  free sulfur dioxide: -0.051\n",
            "  residual sugar: 0.014\n"
          ]
        }
      ],
      "source": [
        "# Create a copy for preprocessing\n",
        "df_processed = df.copy()\n",
        "\n",
        "\n",
        "\n",
        "# 1. Check for missing values (EDA showed no missing values)\n",
        "print(\"\\n1. Missing Values:\")\n",
        "missing_values = df_processed.isnull().sum()\n",
        "if missing_values.sum() > 0:\n",
        "    print(missing_values[missing_values > 0])\n",
        "else:\n",
        "    print(\"No missing values found (as expected from EDA)\")\n",
        "\n",
        "# 2. Check for duplicates\n",
        "print(\"\\n2. Duplicate Rows:\")\n",
        "duplicates = df_processed.duplicated().sum()\n",
        "print(f\"Number of duplicate rows: {duplicates}\")\n",
        "if duplicates > 0:\n",
        "    print(f\"Percentage of duplicates: {(duplicates/len(df_processed))*100:.2f}%\")\n",
        "\n",
        "# 3. Check skewness for variables identified in EDA as right-skewed\n",
        "print(\"\\n3. Skewness Analysis (EDA identified right-skewed variables):\")\n",
        "skewed_vars = ['residual sugar', 'total sulfur dioxide', 'chlorides']\n",
        "for var in skewed_vars:\n",
        "    if var in df_processed.columns:\n",
        "        skewness = skew(df_processed[var])\n",
        "        print(f\"{var}: skewness = {skewness:.3f} ({'right-skewed' if skewness > 0.5 else 'approximately normal'})\")\n",
        "\n",
        "# 4. Check correlation with target (EDA evidence)\n",
        "print(\"\\n4. Correlation with Quality (EDA Evidence):\")\n",
        "correlations = df_processed.corr()['quality'].sort_values(key=abs, ascending=False)\n",
        "print(\"High-signal features (|correlation| > 0.2):\")\n",
        "high_signal = correlations[abs(correlations) > 0.2].drop('quality')\n",
        "for feature, corr in high_signal.items():\n",
        "    print(f\"  {feature}: {corr:.3f}\")\n",
        "\n",
        "print(\"\\nLow-signal features (|correlation| < 0.1):\")\n",
        "low_signal = correlations[abs(correlations) < 0.1]\n",
        "for feature, corr in low_signal.items():\n",
        "    print(f\"  {feature}: {corr:.3f}\")\n"
      ]
    },
    {
      "cell_type": "markdown",
      "metadata": {},
      "source": [
        "#### **3. Handle Duplicates**\n"
      ]
    },
    {
      "cell_type": "code",
      "execution_count": null,
      "metadata": {},
      "outputs": [
        {
          "name": "stdout",
          "output_type": "stream",
          "text": [
            "Removing 240 duplicate rows...\n",
            "Dataset shape after removing duplicates: (1359, 12)\n"
          ]
        }
      ],
      "source": [
        "# Remove duplicates if any (EDA didn't report duplicates, but let's be thorough)\n",
        "if duplicates > 0:\n",
        "    print(f\"Removing {duplicates} duplicate rows...\")\n",
        "    df_processed = df_processed.drop_duplicates()\n",
        "    print(f\"Dataset shape after removing duplicates: {df_processed.shape}\")\n",
        "else:\n",
        "    print(\"✓ No duplicates to remove (as expected from EDA)\")\n"
      ]
    },
    {
      "cell_type": "markdown",
      "metadata": {},
      "source": [
        "#### **4. Log-Transform Skewed Variables (EDA Recommendation)**"
      ]
    },
    {
      "cell_type": "markdown",
      "metadata": {},
      "source": [
        "Based on EDA findings, transform the right-skewed variables identified"
      ]
    },
    {
      "cell_type": "code",
      "execution_count": 16,
      "metadata": {},
      "outputs": [
        {
          "name": "stdout",
          "output_type": "stream",
          "text": [
            "LOG-TRANSFORMING SKEWED VARIABLES\n",
            "- residual sugar: Applied log transformation\n",
            "- Original skewness: 4.543 → Transformed skewness: 1.763\n",
            "- total sulfur dioxide: Applied log transformation\n",
            "- Original skewness: 1.539 → Transformed skewness: -0.078\n",
            "- chlorides: Applied log transformation\n",
            "- Original skewness: 5.496 → Transformed skewness: 1.886\n",
            "\n",
            "Dataset shape after log transformation: (1359, 15)\n",
            "New log-transformed columns: ['residual sugar_log', 'total sulfur dioxide_log', 'chlorides_log']\n"
          ]
        }
      ],
      "source": [
        "# Log-transform skewed variables as recommended by EDA\n",
        "print(\"=== LOG-TRANSFORMING SKEWED VARIABLES ===\")\n",
        "print(\"EDA identified these variables as right-skewed and recommended log transformation:\")\n",
        "\n",
        "# Variables to log-transform based on EDA findings\n",
        "skewed_vars = ['residual sugar', 'total sulfur dioxide', 'chlorides']\n",
        "\n",
        "for var in skewed_vars:\n",
        "    if var in df_processed.columns:\n",
        "        # Check if variable has zero or negative values\n",
        "        min_val = df_processed[var].min()\n",
        "        if min_val <= 0:\n",
        "            # Use log1p for variables with zeros\n",
        "            df_processed[f'{var}_log'] = np.log1p(df_processed[var])\n",
        "            print(f\"✓ {var}: Applied log1p transformation (had {min_val:.3f} minimum value)\")\n",
        "        else:\n",
        "            # Use log for positive values only\n",
        "            df_processed[f'{var}_log'] = np.log(df_processed[var])\n",
        "            print(f\"✓ {var}: Applied log transformation\")\n",
        "        \n",
        "        # Check skewness before and after\n",
        "        original_skew = skew(df_processed[var])\n",
        "        transformed_skew = skew(df_processed[f'{var}_log'])\n",
        "        print(f\"  Original skewness: {original_skew:.3f} → Transformed skewness: {transformed_skew:.3f}\")\n",
        "\n",
        "print(f\"\\nDataset shape after log transformation: {df_processed.shape}\")\n",
        "print(\"New log-transformed columns:\", [col for col in df_processed.columns if '_log' in col])\n"
      ]
    },
    {
      "cell_type": "markdown",
      "metadata": {},
      "source": [
        "#### **5. Outlier Treatment (EDA Recommendation)**"
      ]
    },
    {
      "cell_type": "markdown",
      "metadata": {},
      "source": [
        "Based on EDA findings, handle outliers using IQR-capping metho"
      ]
    },
    {
      "cell_type": "code",
      "execution_count": 18,
      "metadata": {},
      "outputs": [
        {
          "name": "stdout",
          "output_type": "stream",
          "text": [
            "OUTLIER TREATMENT (IQR-CAPPING METHOD)\n",
            "EDA recommended IQR-capping for extreme acidity/sulphates to preserve data points\n",
            "Treating outliers in 14 numerical features...\n",
            "\n",
            "Total outliers capped: 0\n",
            "Dataset shape after outlier treatment: (1359, 15)\n"
          ]
        }
      ],
      "source": [
        "# Outlier treatment based on EDA recommendations\n",
        "print(\"=== OUTLIER TREATMENT (IQR-CAPPING METHOD) ===\")\n",
        "print(\"EDA recommended IQR-capping for extreme acidity/sulphates to preserve data points\")\n",
        "\n",
        "# Define numerical columns (excluding target)\n",
        "numerical_cols = df_processed.select_dtypes(include=[np.number]).columns.tolist()\n",
        "if 'quality' in numerical_cols:\n",
        "    numerical_cols.remove('quality')\n",
        "\n",
        "print(f\"Treating outliers in {len(numerical_cols)} numerical features...\")\n",
        "\n",
        "# Apply IQR-capping method\n",
        "outliers_capped = 0\n",
        "for col in numerical_cols:\n",
        "    Q1 = df_processed[col].quantile(0.25)\n",
        "    Q3 = df_processed[col].quantile(0.75)\n",
        "    IQR = Q3 - Q1\n",
        "    lower_bound = Q1 - 1.5 * IQR\n",
        "    upper_bound = Q3 + 1.5 * IQR\n",
        "    \n",
        "    # Count outliers before capping\n",
        "    outliers_before = ((df_processed[col] < lower_bound) | (df_processed[col] > upper_bound)).sum()\n",
        "    \n",
        "    if outliers_before > 0:\n",
        "        # Cap outliers\n",
        "        df_processed[col] = np.where(df_processed[col] < lower_bound, lower_bound, df_processed[col])\n",
        "        df_processed[col] = np.where(df_processed[col] > upper_bound, upper_bound, df_processed[col])\n",
        "        outliers_capped += outliers_before\n",
        "        print(f\"✓ {col}: Capped {outliers_before} outliers\")\n",
        "\n",
        "print(f\"\\nTotal outliers capped: {outliers_capped}\")\n",
        "print(f\"Dataset shape after outlier treatment: {df_processed.shape}\")\n"
      ]
    },
    {
      "cell_type": "markdown",
      "metadata": {},
      "source": [
        "#### **6. Feature Engineering**"
      ]
    },
    {
      "cell_type": "markdown",
      "metadata": {},
      "source": [
        "Implement the specific feature engineering recommendations from the EDA report"
      ]
    },
    {
      "cell_type": "code",
      "execution_count": 19,
      "metadata": {},
      "outputs": [
        {
          "name": "stdout",
          "output_type": "stream",
          "text": [
            "FEATURE ENGINEERING BASED ON EDA RECOMMENDATIONS\n",
            "1. Creating acidity ratio features...\n",
            "- FA_to_VA_ratio: fixed_acidity / volatile_acidity\n",
            "- citric_over_total_acid: citric_acid / (fixed_acidity + volatile_acidity)\n",
            "- alcohol_acid_interaction: alcohol / volatile_acidity\n",
            "- alcohol_density_ratio: alcohol / density\n",
            "- sulphate_citric_interaction: sulphates * citric_acid\n",
            "- total_acidity: sum of all acidity measures\n",
            "- ph_acidity_balance: pH * total_acidity\n",
            "\n",
            "Dataset shape after feature engineering: (1359, 22)\n",
            "New engineered features: ['residual sugar_log', 'total sulfur dioxide_log', 'chlorides_log', 'FA_to_VA_ratio', 'citric_over_total_acid', 'alcohol_acid_interaction', 'alcohol_density_ratio', 'sulphate_citric_interaction', 'total_acidity', 'ph_acidity_balance']\n"
          ]
        }
      ],
      "source": [
        "print(\"FEATURE ENGINEERING BASED ON EDA RECOMMENDATIONS\")\n",
        "\n",
        "# 1. Acidity ratio: fixed_to_volatile = fixed_acidity / volatile_acidity\n",
        "# EDA rationale: Quality improves when stable acids (fixed) dominate over volatile (harsh) acids\n",
        "print(\"1. Creating acidity ratio features...\")\n",
        "eps = 1e-6  # Small constant to avoid divide-by-zero\n",
        "\n",
        "df_processed['FA_to_VA_ratio'] = df_processed['fixed acidity'] / (df_processed['volatile acidity'] + eps)\n",
        "print(\"- FA_to_VA_ratio: fixed_acidity / volatile_acidity\")\n",
        "\n",
        "# 2. Citric balance: citric_over_total_acid = citric_acid / (fixed_acidity + volatile_acidity + eps)\n",
        "# EDA rationale: Citric acid adds freshness, normalize by total acid captures relative freshness\n",
        "df_processed['citric_over_total_acid'] = df_processed['citric acid'] / (df_processed['fixed acidity'] + df_processed['volatile acidity'] + eps)\n",
        "print(\"- citric_over_total_acid: citric_acid / (fixed_acidity + volatile_acidity)\")\n",
        "\n",
        "# 3. Alcohol–Acidity interaction: alcohol / volatile_acidity\n",
        "# EDA rationale: High alcohol only signals high quality when volatile acidity is low\n",
        "df_processed['alcohol_acid_interaction'] = df_processed['alcohol'] / (df_processed['volatile acidity'] + eps)\n",
        "print(\"- alcohol_acid_interaction: alcohol / volatile_acidity\")\n",
        "\n",
        "# 4. Fermentation efficiency: alcohol_density_ratio = alcohol / density\n",
        "# EDA rationale: Density decreases while alcohol increases with quality - captures fermentation completeness\n",
        "df_processed['alcohol_density_ratio'] = df_processed['alcohol'] / (df_processed['density'] + eps)\n",
        "print(\"- alcohol_density_ratio: alcohol / density\")\n",
        "\n",
        "# 5. Sulphate–citric interaction: sulphates * citric_acid\n",
        "# EDA rationale: Sulphates and citric acid jointly correlate with perceived freshness and preservation\n",
        "df_processed['sulphate_citric_interaction'] = df_processed['sulphates'] * df_processed['citric acid']\n",
        "print(\"- sulphate_citric_interaction: sulphates * citric_acid\")\n",
        "\n",
        "# 6. Total acidity (sum of all acidity measures)\n",
        "df_processed['total_acidity'] = df_processed['fixed acidity'] + df_processed['volatile acidity'] + df_processed['citric acid']\n",
        "print(\"- total_acidity: sum of all acidity measures\")\n",
        "\n",
        "# 7. pH-acidity balance (EDA showed pH and acidity are chemically related)\n",
        "df_processed['ph_acidity_balance'] = df_processed['pH'] * df_processed['total_acidity']\n",
        "print(\"- ph_acidity_balance: pH * total_acidity\")\n",
        "\n",
        "print(f\"\\nDataset shape after feature engineering: {df_processed.shape}\")\n",
        "print(f\"New engineered features: {[col for col in df_processed.columns if col not in df.columns]}\")\n"
      ]
    },
    {
      "cell_type": "markdown",
      "metadata": {},
      "source": [
        "#### **7. Feature Selection**"
      ]
    },
    {
      "cell_type": "markdown",
      "metadata": {},
      "source": [
        "Based on EDA correlation analysis, select high-signal features and evaluate low-signal ones"
      ]
    },
    {
      "cell_type": "code",
      "execution_count": 20,
      "metadata": {},
      "outputs": [
        {
          "name": "stdout",
          "output_type": "stream",
          "text": [
            "FEATURE SELECTION BASED ON EDA CORRELATION EVIDENCE\n",
            "Total features available: 21\n",
            "\n",
            "EDA-identified high-signal features: ['alcohol', 'volatile acidity', 'sulphates', 'citric acid', 'density', 'chlorides']\n",
            "EDA-identified low-signal features: ['residual sugar', 'free sulfur dioxide']\n",
            "\n",
            "Available high-signal features: ['alcohol', 'volatile acidity', 'sulphates', 'citric acid', 'density', 'chlorides']\n",
            "Available low-signal features: ['residual sugar', 'free sulfur dioxide']\n",
            "\n",
            "FEATURE SETS FOR EVALUATION\n",
            "Set 1 - Exclude low-signal features: 19 features\n",
            "Set 2 - High-signal + engineered: 17 features\n",
            "Set 3 - All features: 21 features\n",
            "\n",
            "Selected feature set: 17 features\n",
            "Selected features: ['alcohol', 'volatile acidity', 'sulphates', 'citric acid', 'density', 'chlorides', 'total sulfur dioxide', 'residual sugar_log', 'total sulfur dioxide_log', 'chlorides_log', 'FA_to_VA_ratio', 'citric_over_total_acid', 'alcohol_acid_interaction', 'alcohol_density_ratio', 'sulphate_citric_interaction', 'total_acidity', 'ph_acidity_balance']\n"
          ]
        }
      ],
      "source": [
        "# Feature selection based on EDA correlation evidence\n",
        "print(\"=== FEATURE SELECTION BASED ON EDA CORRELATION EVIDENCE ===\")\n",
        "\n",
        "# Separate features and target\n",
        "X = df_processed.drop('quality', axis=1)\n",
        "y = df_processed['quality']\n",
        "\n",
        "print(f\"Total features available: {X.shape[1]}\")\n",
        "\n",
        "# EDA-identified high-signal features (|correlation| > 0.2)\n",
        "high_signal_features = ['alcohol', 'volatile acidity', 'sulphates', 'citric acid', 'density', 'chlorides']\n",
        "print(f\"\\nEDA-identified high-signal features: {high_signal_features}\")\n",
        "\n",
        "# EDA-identified low-signal features (|correlation| < 0.1) \n",
        "low_signal_features = ['residual sugar', 'free sulfur dioxide']\n",
        "print(f\"EDA-identified low-signal features: {low_signal_features}\")\n",
        "\n",
        "# Check which features are actually available\n",
        "available_high_signal = [f for f in high_signal_features if f in X.columns]\n",
        "available_low_signal = [f for f in low_signal_features if f in X.columns]\n",
        "\n",
        "print(f\"\\nAvailable high-signal features: {available_high_signal}\")\n",
        "print(f\"Available low-signal features: {available_low_signal}\")\n",
        "\n",
        "# Create feature sets for evaluation\n",
        "print(\"\\n=== FEATURE SETS FOR EVALUATION ===\")\n",
        "\n",
        "# Set 1: All original features (excluding low-signal)\n",
        "features_exclude_low_signal = [col for col in X.columns if col not in low_signal_features]\n",
        "print(f\"Set 1 - Exclude low-signal features: {len(features_exclude_low_signal)} features\")\n",
        "\n",
        "# Set 2: High-signal + engineered features\n",
        "high_signal_plus_engineered = available_high_signal + [col for col in X.columns if any(keyword in col.lower() for keyword in ['ratio', 'interaction', 'balance', 'total', 'log'])]\n",
        "print(f\"Set 2 - High-signal + engineered: {len(high_signal_plus_engineered)} features\")\n",
        "\n",
        "# Set 3: All features (for comparison)\n",
        "all_features = list(X.columns)\n",
        "print(f\"Set 3 - All features: {len(all_features)} features\")\n",
        "\n",
        "# Let's use Set 2 (high-signal + engineered) as recommended by EDA\n",
        "selected_features = high_signal_plus_engineered\n",
        "print(f\"\\n✓ Selected feature set: {len(selected_features)} features\")\n",
        "print(\"Selected features:\", selected_features)\n"
      ]
    },
    {
      "cell_type": "markdown",
      "metadata": {},
      "source": [
        "#### **8. Data Splitting (Stratified)**"
      ]
    },
    {
      "cell_type": "markdown",
      "metadata": {},
      "source": [
        "\n",
        "Based on EDA findings about class imbalance, use stratified splitting\n"
      ]
    },
    {
      "cell_type": "code",
      "execution_count": null,
      "metadata": {},
      "outputs": [
        {
          "name": "stdout",
          "output_type": "stream",
          "text": [
            "STRATIFIED DATA SPLITTING\n",
            "EDA identified class imbalance - using stratified splitting to preserve class distribution\n",
            "Selected features shape: (1359, 17)\n",
            "\n",
            "Data split results:\n",
            "Training set: (815, 17) (60.0%)\n",
            "Validation set: (272, 17) (20.0%)\n",
            "Test set: (272, 17) (20.0%)\n",
            "\n",
            "Class distribution verification:\n",
            "Training set quality distribution:\n",
            "quality\n",
            "3      6\n",
            "4     31\n",
            "5    346\n",
            "6    321\n",
            "7    100\n",
            "8     11\n",
            "Name: count, dtype: int64\n",
            "\n",
            "Validation set quality distribution:\n",
            "quality\n",
            "3      2\n",
            "4     11\n",
            "5    115\n",
            "6    107\n",
            "7     34\n",
            "8      3\n",
            "Name: count, dtype: int64\n",
            "\n",
            "Test set quality distribution:\n",
            "quality\n",
            "3      2\n",
            "4     11\n",
            "5    116\n",
            "6    107\n",
            "7     33\n",
            "8      3\n",
            "Name: count, dtype: int64\n"
          ]
        }
      ],
      "source": [
        "# Stratified data splitting based on EDA findings about class imbalance\n",
        "print(\"=== STRATIFIED DATA SPLITTING ===\")\n",
        "print(\"EDA identified class imbalance - using stratified splitting to preserve class distribution\")\n",
        "\n",
        "# Select the chosen features\n",
        "X_selected = X[selected_features]\n",
        "print(f\"Selected features shape: {X_selected.shape}\")\n",
        "\n",
        "# First split: 80% train+val, 20% test\n",
        "X_temp, X_test, y_temp, y_test = train_test_split(\n",
        "    X_selected, y, test_size=0.2, random_state=42, stratify=y\n",
        ")\n",
        "\n",
        "# Second split: 75% train, 25% validation (of the 80%)\n",
        "X_train, X_val, y_train, y_val = train_test_split(\n",
        "    X_temp, y_temp, test_size=0.25, random_state=42, stratify=y_temp\n",
        ")\n",
        "\n",
        "print(f\"\\nData split results:\")\n",
        "print(f\"Training set: {X_train.shape} ({(X_train.shape[0]/len(X_selected))*100:.1f}%)\")\n",
        "print(f\"Validation set: {X_val.shape} ({(X_val.shape[0]/len(X_selected))*100:.1f}%)\")\n",
        "print(f\"Test set: {X_test.shape} ({(X_test.shape[0]/len(X_selected))*100:.1f}%)\")\n",
        "\n",
        "# Check class distribution in each set (should be similar due to stratification)\n",
        "print(f\"\\nClass distribution verification:\")\n",
        "print(\"Training set quality distribution:\")\n",
        "print(y_train.value_counts().sort_index())\n",
        "print(\"\\nValidation set quality distribution:\")\n",
        "print(y_val.value_counts().sort_index())\n",
        "print(\"\\nTest set quality distribution:\")\n",
        "print(y_test.value_counts().sort_index())\n"
      ]
    },
    {
      "cell_type": "markdown",
      "metadata": {},
      "source": [
        "#### **9. Feature Scaling**"
      ]
    },
    {
      "cell_type": "markdown",
      "metadata": {},
      "source": [
        "\n",
        "Apply StandardScaler as recommended by EDA for distance-based models.\n"
      ]
    },
    {
      "cell_type": "code",
      "execution_count": 22,
      "metadata": {},
      "outputs": [
        {
          "name": "stdout",
          "output_type": "stream",
          "text": [
            "FEATURE SCALING (STANDARD SCALER)\n",
            "EDA recommended StandardScaler for distance-based models\n",
            "- Scaling applied successfully!\n",
            "Training set scaled - Mean: -0.0000, Std: 1.0006\n",
            "Validation set scaled - Mean: 0.0080, Std: 0.9902\n",
            "Test set scaled - Mean: -0.0096, Std: 0.9558\n",
            "\n",
            "Scaling verification:\n",
            "Training set - Mean ≈ 0: True\n",
            "Training set - Std ≈ 1: True\n"
          ]
        }
      ],
      "source": [
        "# Apply StandardScaler as recommended by EDA\n",
        "print(\"=== FEATURE SCALING (STANDARD SCALER) ===\")\n",
        "print(\"EDA recommended StandardScaler for distance-based models\")\n",
        "\n",
        "# Fit scaler on training data only (to avoid data leakage)\n",
        "scaler = StandardScaler()\n",
        "X_train_scaled = scaler.fit_transform(X_train)\n",
        "X_train_scaled = pd.DataFrame(X_train_scaled, columns=X_train.columns)\n",
        "\n",
        "# Transform validation and test sets\n",
        "X_val_scaled = scaler.transform(X_val)\n",
        "X_val_scaled = pd.DataFrame(X_val_scaled, columns=X_val.columns)\n",
        "\n",
        "X_test_scaled = scaler.transform(X_test)\n",
        "X_test_scaled = pd.DataFrame(X_test_scaled, columns=X_test.columns)\n",
        "\n",
        "print(\"✓ Scaling applied successfully!\")\n",
        "print(f\"Training set scaled - Mean: {X_train_scaled.mean().mean():.4f}, Std: {X_train_scaled.std().mean():.4f}\")\n",
        "print(f\"Validation set scaled - Mean: {X_val_scaled.mean().mean():.4f}, Std: {X_val_scaled.std().mean():.4f}\")\n",
        "print(f\"Test set scaled - Mean: {X_test_scaled.mean().mean():.4f}, Std: {X_test_scaled.std().mean():.4f}\")\n",
        "\n",
        "# Verify scaling worked correctly\n",
        "print(f\"\\nScaling verification:\")\n",
        "print(f\"Training set - Mean ≈ 0: {abs(X_train_scaled.mean().mean()) < 0.01}\")\n",
        "print(f\"Training set - Std ≈ 1: {abs(X_train_scaled.std().mean() - 1) < 0.01}\")\n"
      ]
    },
    {
      "cell_type": "markdown",
      "metadata": {},
      "source": [
        "#### **10. Feature Importance Analysis**"
      ]
    },
    {
      "cell_type": "markdown",
      "metadata": {},
      "source": [
        "Analyze the importance of engineered features based on EDA recommendations."
      ]
    },
    {
      "cell_type": "code",
      "execution_count": null,
      "metadata": {},
      "outputs": [
        {
          "name": "stdout",
          "output_type": "stream",
          "text": [
            "FEATURE IMPORTANCE ANALYSIS ===\n",
            "Top 10 features by correlation with quality:\n",
            " 1. density: 0.100\n",
            " 2. alcohol_density_ratio: 0.098\n",
            " 3. alcohol: 0.097\n",
            " 4. chlorides: 0.063\n",
            " 5. chlorides_log: 0.060\n",
            " 6. ph_acidity_balance: 0.055\n",
            " 7. FA_to_VA_ratio: 0.053\n",
            " 8. total_acidity: 0.051\n",
            " 9. volatile acidity: 0.050\n",
            "10. citric acid: 0.038\n",
            "\n",
            "Engineered features in top 10: ['chlorides_log', 'FA_to_VA_ratio', 'alcohol_density_ratio', 'total_acidity', 'ph_acidity_balance']\n"
          ]
        },
        {
          "data": {
            "image/png": "[encoded data removed]",
            "text/plain": [
              "<Figure size 1200x800 with 1 Axes>"
            ]
          },
          "metadata": {},
          "output_type": "display_data"
        },
        {
          "name": "stdout",
          "output_type": "stream",
          "text": [
            "\n",
            "-Feature importance analysis completed\n",
            "-5 engineered features in top 10\n"
          ]
        }
      ],
      "source": [
        "# Feature importance analysis to validate EDA-based engineering\n",
        "print(\"=== FEATURE IMPORTANCE ANALYSIS ===\")\n",
        "\n",
        "# Calculate correlation with target for all features\n",
        "feature_correlations = X_train_scaled.corrwith(y_train).abs().sort_values(ascending=False)\n",
        "\n",
        "print(\"Top 10 features by correlation with quality:\")\n",
        "for i, (feature, corr) in enumerate(feature_correlations.head(10).items(), 1):\n",
        "    print(f\"{i:2d}. {feature}: {corr:.3f}\")\n",
        "\n",
        "# Check if engineered features are among top features\n",
        "engineered_features = [col for col in X_train_scaled.columns if any(keyword in col.lower() for keyword in ['ratio', 'interaction', 'balance', 'total', 'log'])]\n",
        "print(f\"\\nEngineered features in top 10: {[f for f in engineered_features if f in feature_correlations.head(10).index]}\")\n",
        "\n",
        "# Visualize feature importance\n",
        "plt.figure(figsize=(12, 8))\n",
        "top_features = feature_correlations.head(15)\n",
        "colors = ['red' if any(keyword in f.lower() for keyword in ['ratio', 'interaction', 'balance', 'total', 'log']) else 'blue' for f in top_features.index]\n",
        "\n",
        "plt.barh(range(len(top_features)), top_features.values, color=colors)\n",
        "plt.yticks(range(len(top_features)), top_features.index)\n",
        "plt.xlabel('Absolute Correlation with Quality')\n",
        "plt.title('Top 15 Features by Correlation with Quality\\n(Red = Engineered Features)')\n",
        "plt.gca().invert_yaxis()\n",
        "plt.tight_layout()\n",
        "plt.show()\n",
        "\n",
        "print(f\"\\n✓ Feature importance analysis completed\")\n",
        "print(f\"✓ {len([f for f in engineered_features if f in feature_correlations.head(10).index])} engineered features in top 10\")\n"
      ]
    },
    {
      "cell_type": "markdown",
      "metadata": {},
      "source": [
        "#### **11. Save Preprocessed Data**"
      ]
    },
    {
      "cell_type": "markdown",
      "metadata": {},
      "source": [
        "\n",
        "Save all preprocessed datasets and preprocessing objects for modeling"
      ]
    },
    {
      "cell_type": "code",
      "execution_count": 24,
      "metadata": {},
      "outputs": [
        {
          "name": "stdout",
          "output_type": "stream",
          "text": [
            "SAVING PREPROCESSED DATA \n",
            "- Preprocessed data saved successfully!\n",
            "\n",
            "Files created:\n",
            "- X_train_scaled.csv, X_val_scaled.csv, X_test_scaled.csv\n",
            "- y_train.csv, y_val.csv, y_test.csv\n",
            "- scaler.pkl, selected_features.pkl\n",
            "- feature_importance.csv, preprocessing_summary.json\n"
          ]
        }
      ],
      "source": [
        "print(\"SAVING PREPROCESSED DATA \")\n",
        "\n",
        "# Save scaled datasets\n",
        "X_train_scaled.to_csv('X_train_scaled.csv', index=False)\n",
        "X_val_scaled.to_csv('X_val_scaled.csv', index=False)\n",
        "X_test_scaled.to_csv('X_test_scaled.csv', index=False)\n",
        "\n",
        "# Save target variables\n",
        "y_train.to_csv('y_train.csv', index=False)\n",
        "y_val.to_csv('y_val.csv', index=False)\n",
        "y_test.to_csv('y_test.csv', index=False)\n",
        "\n",
        "# Save preprocessing objects\n",
        "import joblib\n",
        "joblib.dump(scaler, 'scaler.pkl')\n",
        "joblib.dump(selected_features, 'selected_features.pkl')\n",
        "\n",
        "# Save feature importance\n",
        "feature_importance_df = pd.DataFrame({\n",
        "    'feature': feature_correlations.index,\n",
        "    'correlation': feature_correlations.values\n",
        "})\n",
        "feature_importance_df.to_csv('feature_importance.csv', index=False)\n",
        "\n",
        "# Save preprocessing summary\n",
        "preprocessing_summary = {\n",
        "    'original_shape': df.shape,\n",
        "    'final_shape': df_processed.shape,\n",
        "    'selected_features': selected_features,\n",
        "    'engineered_features': engineered_features,\n",
        "    'train_samples': X_train_scaled.shape[0],\n",
        "    'val_samples': X_val_scaled.shape[0],\n",
        "    'test_samples': X_test_scaled.shape[0],\n",
        "    'scaling_method': 'StandardScaler',\n",
        "    'outlier_treatment': 'IQR_capping',\n",
        "    'log_transformed': ['residual sugar', 'total sulfur dioxide', 'chlorides']\n",
        "}\n",
        "\n",
        "import json\n",
        "with open('preprocessing_summary.json', 'w') as f:\n",
        "    json.dump(preprocessing_summary, f, indent=2)\n",
        "\n",
        "print(\"- Preprocessed data saved successfully!\")\n",
        "print(\"\\nFiles created:\")\n",
        "print(\"- X_train_scaled.csv, X_val_scaled.csv, X_test_scaled.csv\")\n",
        "print(\"- y_train.csv, y_val.csv, y_test.csv\")\n",
        "print(\"- scaler.pkl, selected_features.pkl\")\n",
        "print(\"- feature_importance.csv, preprocessing_summary.json\")\n"
      ]
    },
    {
      "cell_type": "markdown",
      "metadata": {},
      "source": [
        "#### **12. Preprocessing Summary**"
      ]
    },
    {
      "cell_type": "code",
      "execution_count": 27,
      "metadata": {},
      "outputs": [
        {
          "name": "stdout",
          "output_type": "stream",
          "text": [
            ".....PREPROCESSING SUMMARY BASED ON EDA INSIGHTS.....\n",
            "Original dataset shape: (1599, 12)\n",
            "Final processed dataset shape: (1359, 22)\n",
            "Selected features: 17\n",
            "Training samples: 815\n",
            "Validation samples: 272\n",
            "Test samples: 272\n",
            "\n",
            ".....PREPROCESSING STEPS COMPLETED (EDA-BASED).....\n",
            "> Data quality assessment (no missing values, duplicates handled)\n",
            "> Log-transformation of skewed variables (residual sugar, total SO₂, chlorides)\n",
            "> Outlier treatment using IQR-capping method\n",
            "> Feature engineering based on EDA recommendations:\n",
            "  - FA_to_VA_ratio (fixed acidity / volatile acidity)\n",
            "  - citric_over_total_acid (citric acid / total acidity)\n",
            "  - alcohol_acid_interaction (alcohol / volatile acidity)\n",
            "  - alcohol_density_ratio (alcohol / density)\n",
            "  - sulphate_citric_interaction (sulphates * citric acid)\n",
            "  - total_acidity (sum of all acidity measures)\n",
            "  - ph_acidity_balance (pH * total acidity)\n",
            "> Feature selection (high-signal features + engineered features)\n",
            "> Stratified data splitting (preserves class distribution)\n",
            "> StandardScaler applied (EDA recommendation for distance-based models)\n",
            "> Feature importance analysis (validates engineered features)\n",
            "> Data export (ready for modeling)\n",
            "\n",
            ".....EDA EVIDENCE IMPLEMENTED.....\n",
            "> High-signal features prioritized: alcohol, volatile acidity, sulphates, citric acid\n",
            "> Low-signal features excluded: residual sugar, free sulfur dioxide\n",
            "> Skewed variables log-transformed as recommended\n",
            "> Acidity ratios created based on grouped means analysis\n",
            "> Alcohol-acidity interactions based on trivariate analysis\n",
            "> Fermentation efficiency features based on density-alcohol relationship\n",
            "\n",
            " Preprocessing completed successfully!!!!!!\n",
            ".....Ready for modeling phase with EDA-informed preprocessing\n"
          ]
        }
      ],
      "source": [
        "# Final preprocessing summary\n",
        "print(\".....PREPROCESSING SUMMARY BASED ON EDA INSIGHTS.....\")\n",
        "print(f\"Original dataset shape: {df.shape}\")\n",
        "print(f\"Final processed dataset shape: {df_processed.shape}\")\n",
        "print(f\"Selected features: {len(selected_features)}\")\n",
        "print(f\"Training samples: {X_train_scaled.shape[0]}\")\n",
        "print(f\"Validation samples: {X_val_scaled.shape[0]}\")\n",
        "print(f\"Test samples: {X_test_scaled.shape[0]}\")\n",
        "\n",
        "print(\"\\n.....PREPROCESSING STEPS COMPLETED (EDA-BASED).....\")\n",
        "print(\"> Data quality assessment (no missing values, duplicates handled)\")\n",
        "print(\"> Log-transformation of skewed variables (residual sugar, total SO₂, chlorides)\")\n",
        "print(\"> Outlier treatment using IQR-capping method\")\n",
        "print(\"> Feature engineering based on EDA recommendations:\")\n",
        "print(\"  - FA_to_VA_ratio (fixed acidity / volatile acidity)\")\n",
        "print(\"  - citric_over_total_acid (citric acid / total acidity)\")\n",
        "print(\"  - alcohol_acid_interaction (alcohol / volatile acidity)\")\n",
        "print(\"  - alcohol_density_ratio (alcohol / density)\")\n",
        "print(\"  - sulphate_citric_interaction (sulphates * citric acid)\")\n",
        "print(\"  - total_acidity (sum of all acidity measures)\")\n",
        "print(\"  - ph_acidity_balance (pH * total acidity)\")\n",
        "print(\"> Feature selection (high-signal features + engineered features)\")\n",
        "print(\"> Stratified data splitting (preserves class distribution)\")\n",
        "print(\"> StandardScaler applied (EDA recommendation for distance-based models)\")\n",
        "print(\"> Feature importance analysis (validates engineered features)\")\n",
        "print(\"> Data export (ready for modeling)\")\n",
        "\n",
        "print(\"\\n.....EDA EVIDENCE IMPLEMENTED.....\")\n",
        "print(\"> High-signal features prioritized: alcohol, volatile acidity, sulphates, citric acid\")\n",
        "print(\"> Low-signal features excluded: residual sugar, free sulfur dioxide\")\n",
        "print(\"> Skewed variables log-transformed as recommended\")\n",
        "print(\"> Acidity ratios created based on grouped means analysis\")\n",
        "print(\"> Alcohol-acidity interactions based on trivariate analysis\")\n",
        "print(\"> Fermentation efficiency features based on density-alcohol relationship\")\n",
        "\n",
        "\n",
        "print(f\"\\n Preprocessing completed successfully!!!!!!\")\n",
        "print(\".....Ready for modeling phase with EDA-informed preprocessing\")\n"
      ]
    },
    {
      "cell_type": "markdown",
      "metadata": {},
      "source": []
    }
  ],
  "metadata": {
    "kernelspec": {
      "display_name": "a_ml_venv",
      "language": "python",
      "name": "python3"
    },
    "language_info": {
      "codemirror_mode": {
        "name": "ipython",
        "version": 3
      },
      "file_extension": ".py",
      "mimetype": "text/x-python",
      "name": "python",
      "nbconvert_exporter": "python",
      "pygments_lexer": "ipython3",
      "version": "3.10.0"
    }
  },
  "nbformat": 4,
  "nbformat_minor": 2
}
