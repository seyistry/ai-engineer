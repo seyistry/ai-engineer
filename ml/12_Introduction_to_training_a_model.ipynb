{
 "cells": [
  {
   "cell_type": "markdown",
   "metadata": {
    "id": "2vWzhjr7ysWG"
   },
   "source": [
    "**Understanding the Machine Learning Pipeline**"
   ]
  },
  {
   "cell_type": "markdown",
   "metadata": {
    "id": "0Wo4GGYTzT7O"
   },
   "source": [
    "An ML pipeline is a structured workflow that automates the process of building, training, evaluating, and deploying machine learning models. It ensures that data flows smoothly from raw input to a deployed model.\n",
    "\n",
    "But I am not explaining it in terms of automation, we will cover that when we get to MLOps. Here we will just be focusing on the flow only."
   ]
  },
  {
   "cell_type": "markdown",
   "metadata": {
    "id": "-8BZn1pHz568"
   },
   "source": [
    "**The Key Stages of ML Pipeline**"
   ]
  },
  {
   "cell_type": "markdown",
   "metadata": {
    "id": "tODCqhbp0CwM"
   },
   "source": [
    "**1. Data Collection and Ingestion**"
   ]
  },
  {
   "cell_type": "markdown",
   "metadata": {
    "id": "N3C4fcEU1GNN"
   },
   "source": [
    "The pipleine begins with data collection from various sources depending on the data need of your business or organization.\n",
    "For reiteration you can get dataset from APIs, Webscaping, Databases, Devices, Logs, streaming data etc.."
   ]
  },
  {
   "cell_type": "code",
   "execution_count": null,
   "metadata": {
    "id": "0LCTdsvoyk9a"
   },
   "outputs": [],
   "source": []
  },
  {
   "cell_type": "markdown",
   "metadata": {},
   "source": [
    "**2. Data Cleaning**"
   ]
  },
  {
   "cell_type": "markdown",
   "metadata": {},
   "source": [
    "Here you ensure that all forms of inconsistencies that might affect the integerity and quality of the data is removed."
   ]
  },
  {
   "cell_type": "code",
   "execution_count": null,
   "metadata": {},
   "outputs": [],
   "source": []
  },
  {
   "cell_type": "markdown",
   "metadata": {},
   "source": [
    "**3. Exploratory Data Analysis**"
   ]
  },
  {
   "cell_type": "markdown",
   "metadata": {},
   "source": [
    "Here you ensure that your data is fit enough for the model you intend building. You find the relationships, distributions, trends and patterns. You will have consider the contribution of each feature/variable or groups of variables and decide if they will be relevant to the model you intend building."
   ]
  },
  {
   "cell_type": "code",
   "execution_count": null,
   "metadata": {},
   "outputs": [],
   "source": []
  },
  {
   "cell_type": "markdown",
   "metadata": {
    "id": "nbEzphcX0KSs"
   },
   "source": [
    "**4. Data Preprocessing & Cleaning(where neccessary)**"
   ]
  },
  {
   "cell_type": "markdown",
   "metadata": {
    "id": "LbH6RD2z1yBT"
   },
   "source": [
    "Remember that high quality data improves model performance. we have treated both data cleaning and data preprocessing in details."
   ]
  },
  {
   "cell_type": "code",
   "execution_count": null,
   "metadata": {
    "id": "pMde6V9V0JT8"
   },
   "outputs": [],
   "source": []
  },
  {
   "cell_type": "markdown",
   "metadata": {
    "id": "LQKFKVSd0RBm"
   },
   "source": [
    "**5. Feature Engineering & Transformation**"
   ]
  },
  {
   "cell_type": "markdown",
   "metadata": {
    "id": "n1_VRATV1xfU"
   },
   "source": [
    "Most times, data cleaning, preprocessing and engineering could intertwine but there are major differences. But at the end of the day, the 3 strateiges gears towards one goal, that is preparing your data learning-ready for the algorithm."
   ]
  },
  {
   "cell_type": "code",
   "execution_count": null,
   "metadata": {
    "id": "WUnMX_NZ0JvE"
   },
   "outputs": [],
   "source": []
  },
  {
   "cell_type": "markdown",
   "metadata": {
    "id": "-KvuosuM0eIk"
   },
   "source": [
    "**6. Splitting Data**"
   ]
  },
  {
   "cell_type": "markdown",
   "metadata": {
    "id": "rL5VaRv12uU8"
   },
   "source": [
    "To evaluate our model fairly, we have to split it into train and test sets. The train data should be considerably more, at least 65 to 80 percent of the data. And the rest of the data (test set) can be reserved for model evaluation.\n",
    "\n",
    "**K-Fold Cross-Validation**: This also comes in handy. Instead of a single train-test split,this splits the data into K parts(or folds). The algorithm  is trained and tested K times, using different fold as the test set each time.  This will help to prevent our algorthm fromlearning too much from one specific set. It beomes very useful when we have limited data, so it just help us to leverage on every data point for the training process."
   ]
  },
  {
   "cell_type": "code",
   "execution_count": null,
   "metadata": {
    "id": "IOYtsPBh0Jrt"
   },
   "outputs": [],
   "source": []
  },
  {
   "cell_type": "markdown",
   "metadata": {
    "id": "fdqgevpS0kh8"
   },
   "source": [
    "**7. Algorithm Selection & Training**"
   ]
  },
  {
   "cell_type": "markdown",
   "metadata": {
    "id": "ybu2TDWu3UET"
   },
   "source": [
    "This is highly dependent on the type of problem that we are solving or the type of result we  are hoping to get at the end of training.\n",
    "You can choose `classifier` algorithm if you are predicting `categories or classes`. And if you are predicting `continuous values`, you definitely have to select `regressors`.\n",
    "\n",
    "After selecting the algorithm, you train it using the training dataset. The algorithm learns patterns by adjusting internal parameters to minimize errors. After the training, the output of using your `algorithm` to `train` your` data` is your` model`."
   ]
  },
  {
   "cell_type": "code",
   "execution_count": null,
   "metadata": {
    "id": "PvbMfSqu0Jo8"
   },
   "outputs": [],
   "source": []
  },
  {
   "cell_type": "markdown",
   "metadata": {
    "id": "bTwtxG3y0p0E"
   },
   "source": [
    "**6. Model Evaluation**"
   ]
  },
  {
   "cell_type": "markdown",
   "metadata": {
    "id": "-QlEsdpU5wbL"
   },
   "source": [
    "After training an algorithm, we need to measure how well the ouput(model) performs on unseen data.\n",
    "The model is evaluated using the test data. The classifier and the regressor algorithms have different evaluators.\n",
    "\n",
    "For classifier algorithms, you evaluate their models with:\n",
    "\n",
    "* Accuracy → Percentage of correctly classified samples.\n",
    "* Precision → How many predicted positives are actually correct?\n",
    "* Recall → How many actual positives were correctly predicted?\n",
    "* F1-score → Balances precision and recall.\n",
    "* ROC-AUC → Measures model’s ability to distinguish between classes.\n",
    "\n",
    "For regressor algorithms, you evaluate their models with:\n",
    "\n",
    "\n",
    "* Mean Squared Error (MSE) → Measures average squared differences between predicted and actual values.\n",
    "* Root Mean Squared Error (RMSE) → Square root of MSE, its quite easier to interpret.\n",
    "* R² Score → Measures how well the model explains variance in data (closer to 1 is better)."
   ]
  },
  {
   "cell_type": "code",
   "execution_count": null,
   "metadata": {
    "id": "P9-erWOF0Jhl"
   },
   "outputs": [],
   "source": []
  },
  {
   "cell_type": "markdown",
   "metadata": {
    "id": "18cN-oCp0uoj"
   },
   "source": [
    "**7. Model Improvement/Optimization**"
   ]
  },
  {
   "cell_type": "markdown",
   "metadata": {
    "id": "11COuq4y7pjS"
   },
   "source": [
    "Not every model do well on unseen data or test data, when that happens, we must look for a way to improve its performance.\n",
    "* One way is to go back to your feature engineering and be sure you have engineered your features as you ought to or you try out regularization for linear models, PCA or Feature Importance to select the best features.\n",
    "\n",
    "* The other way is to optimize the model parameters for better perfomance. Common optimization strategy includes Grid search, Random search and Bayesian optimization.\n",
    "\n",
    "* The process of optimizing an algorithm is called **Hyperparameter Tuning**. ML algorithms have parameters that we must manually tune to get the best performance. For example tree-based algorthms like XGBoost, LGBM and Randomforest."
   ]
  },
  {
   "cell_type": "code",
   "execution_count": null,
   "metadata": {
    "id": "2t1mEkYX0Jer"
   },
   "outputs": [],
   "source": []
  },
  {
   "cell_type": "markdown",
   "metadata": {
    "id": "7WQabljW0yUd"
   },
   "source": [
    "**8. Model Deployment**"
   ]
  },
  {
   "cell_type": "markdown",
   "metadata": {
    "id": "lDPEySvYAiuj"
   },
   "source": [
    "The process of integrating a trained machine learning model into a real-world application so that users can interact with it is called model deployment.\n",
    "You will save your data model as a `.joblib or .pkl` file.\n",
    "\n",
    "For large numpy arrays, joblib is prefered to pickle files because it handles those arrays more efficiently.\n",
    "\n",
    "For more advanced algorithm models like XGBoost we use `.json or .bin`.\n",
    "For LightGBM we use `.txt`\n",
    "\n",
    "After saving the next thing is to choose your prefered deployment method from the list below(as at the time of taking this course there may be other platforms that might be available)\n",
    "\n",
    "* REST API (Flask, FastAPI, Django) – Expose as an API endpoint.\n",
    "* Web App (Streamlit,Dash, Gradio) – Build an interactive UI.\n",
    "* Cloud Deployment (AWS, GCP, Azure) – Scale for production.\n",
    "\n",
    "Then finally,\n",
    "\n",
    "package the app into a container for easy deployment(using docker) and kubernetes to manage and scale multiple instances.\n",
    "\n",
    "Last 10 cent, Always retrain the model with new data if accuracy drops overtime."
   ]
  },
  {
   "cell_type": "code",
   "execution_count": null,
   "metadata": {
    "id": "qNrL_ZxWF-En"
   },
   "outputs": [],
   "source": []
  }
 ],
 "metadata": {
  "colab": {
   "authorship_tag": "ABX9TyMfvpDs6eWj9xxvgLik0XfW",
   "provenance": []
  },
  "kernelspec": {
   "display_name": "Python 3",
   "name": "python3"
  },
  "language_info": {
   "name": "python"
  }
 },
 "nbformat": 4,
 "nbformat_minor": 0
}
